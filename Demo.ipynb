{
 "cells": [
  {
   "cell_type": "code",
   "execution_count": null,
   "metadata": {},
   "outputs": [],
   "source": [
    "from pistonball_CleanRL import *\n",
    "import torch\n",
    "from supersuit import color_reduction_v0, frame_stack_v1, resize_v1\n",
    "from pettingzoo.butterfly import pistonball_v6\n",
    "import pandas as pd\n",
    "import cv2\n",
    "import os"
   ]
  },
  {
   "cell_type": "code",
   "execution_count": null,
   "metadata": {},
   "outputs": [],
   "source": [
    "save_dir = \"saved_models\"\n",
    "log_dir = \"training_logs\"\n",
    "model_name = \"model_episode_300.pt\"\n",
    "device = torch.device(\"cuda\" if torch.cuda.is_available() else \"cpu\")"
   ]
  },
  {
   "cell_type": "code",
   "execution_count": null,
   "metadata": {},
   "outputs": [],
   "source": [
    "# 读取训练日志\n",
    "log_path = os.path.join(log_dir, \"training_log.csv\")\n",
    "logs_df = pd.read_csv(log_path)\n",
    "\n",
    "# 打印日志\n",
    "print(logs_df)"
   ]
  },
  {
   "cell_type": "code",
   "execution_count": null,
   "metadata": {},
   "outputs": [],
   "source": [
    "\"\"\" RENDER THE POLICY \"\"\"\n",
    "env = pistonball_v6.parallel_env(render_mode=\"rgb_array\", continuous=False)\n",
    "env = color_reduction_v0(env)\n",
    "env = resize_v1(env, 64, 64)\n",
    "env = frame_stack_v1(env, stack_size=4)\n",
    "num_actions = env.action_space(env.possible_agents[0]).n\n",
    "render_episodes = 3\n",
    "\n",
    "vedio_filename = \"pistonball_v6.mp4\"\n",
    "vedio_path = os.path.join(log_dir, vedio_filename)\n",
    "vedio_fps = 30\n",
    "vedio_framesize = (env.unwrapped.screen_width, env.unwrapped.screen_height)\n",
    "fourcc = cv2.VideoWriter_fourcc(*\"mp4v\")\n",
    "vedio_out = cv2.VideoWriter(vedio_path, fourcc, vedio_fps, vedio_framesize)\n",
    "\n",
    "# agent = Agent(num_actions=num_actions).to(device)\n",
    "agent = Agent_ADG(num_actions=num_actions).to(device)\n",
    "model_path = os.path.join(save_dir, model_name)\n",
    "\n",
    "if model_name:\n",
    "    agent.load_state_dict(torch.load(model_path, map_location=device))\n",
    "    print(\"Model loaded successfully.\")\n",
    "\n",
    "agent.eval()\n",
    "\n",
    "with torch.no_grad():\n",
    "    for episode in range(render_episodes):\n",
    "        obs, infos = env.reset(seed=None)\n",
    "        obs = batchify_obs(obs, device)\n",
    "        terms = [False]\n",
    "        truncs = [False]\n",
    "        while not any(terms) and not any(truncs):\n",
    "            vedio_frame = env.render()\n",
    "            vedio_out.write(vedio_frame)\n",
    "            actions, logprobs, _, values = agent(obs)\n",
    "            obs, rewards, terms, truncs, infos = env.step(unbatchify(actions, env))\n",
    "            obs = batchify_obs(obs, device)\n",
    "            terms = [terms[a] for a in terms]\n",
    "            truncs = [truncs[a] for a in truncs]\n",
    "vedio_out.release()"
   ]
  }
 ],
 "metadata": {
  "language_info": {
   "name": "python"
  }
 },
 "nbformat": 4,
 "nbformat_minor": 2
}
