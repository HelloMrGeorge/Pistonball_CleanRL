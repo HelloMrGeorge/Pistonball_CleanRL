{
 "cells": [
  {
   "cell_type": "code",
   "execution_count": null,
   "metadata": {},
   "outputs": [],
   "source": [
    "from pettingzoo.butterfly import pistonball_v6\n",
    "import numpy as np"
   ]
  },
  {
   "cell_type": "code",
   "execution_count": null,
   "metadata": {},
   "outputs": [],
   "source": [
    "env = pistonball_v6.parallel_env(\n",
    "    render_mode=\"rgb_array\", continuous=False, max_cycles=100\n",
    ")\n",
    "# 重置环境并获取初始状态\n",
    "initial_state: np.ndarray = env.reset()[0][\"piston_0\"]\n",
    "\n",
    "# 依次输出字典的键值对\n",
    "# for key, value in initial_state.items():\n",
    "#     print(f'{key}: {value}')\n",
    "print(initial_state.shape)\n",
    "print(env.unwrapped.screen_width, env.unwrapped.screen_height)"
   ]
  }
 ],
 "metadata": {
  "kernelspec": {
   "display_name": "rl-py312",
   "language": "python",
   "name": "python3"
  },
  "language_info": {
   "codemirror_mode": {
    "name": "ipython",
    "version": 3
   },
   "file_extension": ".py",
   "mimetype": "text/x-python",
   "name": "python",
   "nbconvert_exporter": "python",
   "pygments_lexer": "ipython3",
   "version": "3.12.9"
  }
 },
 "nbformat": 4,
 "nbformat_minor": 2
}
